{
 "cells": [
  {
   "cell_type": "code",
   "execution_count": null,
   "metadata": {},
   "outputs": [],
   "source": []
  }
 ],
 "metadata": {
  "interpreter": {
   "hash": "4a8d3800203db8a6e4e1d6dc9a08fd061338dcfda23d2ef7fd361a0fc961fdec"
  },
  "kernelspec": {
   "display_name": "Python 3.9.7 64-bit ('astro2': conda)",
   "language": "python",
   "name": "python3"
  },
  "language_info": {
   "name": "python",
   "version": "3.9.7"
  },
  "orig_nbformat": 4
 },
 "nbformat": 4,
 "nbformat_minor": 2
}
